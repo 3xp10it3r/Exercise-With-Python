{
 "cells": [
  {
   "cell_type": "markdown",
   "metadata": {},
   "source": [
    "# 1. REVERSE OF STRING"
   ]
  },
  {
   "cell_type": "code",
   "execution_count": 3,
   "metadata": {},
   "outputs": [
    {
     "name": "stdout",
     "output_type": "stream",
     "text": [
      "Enter Sting: Digvijay Gupta\n",
      "atpuG yajivgiD\n"
     ]
    }
   ],
   "source": [
    "n = str(input(\"Enter Sting: \"))\n",
    "print(n[::-1])"
   ]
  },
  {
   "cell_type": "markdown",
   "metadata": {},
   "source": [
    "# 2.Reverse A Number"
   ]
  },
  {
   "cell_type": "code",
   "execution_count": 4,
   "metadata": {},
   "outputs": [
    {
     "name": "stdout",
     "output_type": "stream",
     "text": [
      "Enter A number : 123\n",
      "321\n"
     ]
    }
   ],
   "source": [
    "n = int(input(\"Enter A number : \"))\n",
    "print(int(str(n)[::-1]))"
   ]
  },
  {
   "cell_type": "markdown",
   "metadata": {},
   "source": [
    "# 3.Palindrome"
   ]
  },
  {
   "cell_type": "code",
   "execution_count": 7,
   "metadata": {},
   "outputs": [
    {
     "name": "stdout",
     "output_type": "stream",
     "text": [
      "rotor\n",
      "Yes! It is Palindrome.\n"
     ]
    }
   ],
   "source": [
    "n = str(input())\n",
    "reverse = n[::-1]\n",
    "if(n == reverse):\n",
    "    print(\"Yes! It is Palindrome.\")\n",
    "else:\n",
    "    print(\"Not Palindrome.\")"
   ]
  },
  {
   "cell_type": "markdown",
   "metadata": {},
   "source": [
    "# 4.Prime Number"
   ]
  },
  {
   "cell_type": "code",
   "execution_count": 26,
   "metadata": {},
   "outputs": [
    {
     "name": "stdout",
     "output_type": "stream",
     "text": [
      "Enter a number to check if it is prime.11\n",
      "Its a prime Number.\n"
     ]
    }
   ],
   "source": [
    "n = int(input(\"Enter a number to check if it is prime.\"))\n",
    "prime = True\n",
    "if(n==0 or n==1):\n",
    "    prime = False\n",
    "else:\n",
    "    for i in range(2,n):\n",
    "        if(n%i==0):\n",
    "            prime = False\n",
    "if(prime == True):\n",
    "    print(\"Its a prime Number.\")\n",
    "else:\n",
    "    print(\"Its not a prime Number.\")"
   ]
  },
  {
   "cell_type": "markdown",
   "metadata": {},
   "source": [
    "# 5.Leap Year"
   ]
  },
  {
   "cell_type": "code",
   "execution_count": 28,
   "metadata": {},
   "outputs": [
    {
     "name": "stdout",
     "output_type": "stream",
     "text": [
      "2016\n",
      "Its a Leap Year\n"
     ]
    }
   ],
   "source": [
    "year = int(input())\n",
    "leap = False\n",
    "if(year%400 ==0):\n",
    "    leap = True\n",
    "elif(year % 100 == 0):\n",
    "    leap = False\n",
    "elif(year % 4 == 0):\n",
    "    leap = True\n",
    "if(leap == False):\n",
    "    print(\"its Not a leap Year\")\n",
    "else:\n",
    "    print(\"Its a Leap Year\")"
   ]
  },
  {
   "cell_type": "markdown",
   "metadata": {},
   "source": [
    "# 6.Greatest Among 10 Numbers"
   ]
  },
  {
   "cell_type": "code",
   "execution_count": 31,
   "metadata": {},
   "outputs": [
    {
     "name": "stdout",
     "output_type": "stream",
     "text": [
      "Enter 10 numbers separated by space(\" \") : 12 45 57 89 2 78 34 23 57 23\n",
      "89\n"
     ]
    }
   ],
   "source": [
    "li = list(map(int,input(\"Enter 10 numbers separated by space(\\\" \\\") : \").strip().split()))\n",
    "print(max(li))"
   ]
  },
  {
   "cell_type": "markdown",
   "metadata": {},
   "source": [
    "# 7.Fibonacci Series"
   ]
  },
  {
   "cell_type": "code",
   "execution_count": 36,
   "metadata": {},
   "outputs": [
    {
     "name": "stdout",
     "output_type": "stream",
     "text": [
      "Enter a number to print fib series : 10\n",
      "0 1 1 2 3 5 8 13 21 34 "
     ]
    }
   ],
   "source": [
    "n = int(input(\"Enter a number to print fib series : \"))\n",
    "f1 = 0 \n",
    "f2 = 1\n",
    "print(f1,f2,end=\" \")\n",
    "for i in range(n-2):\n",
    "    s = f1 + f2\n",
    "    print(s, end = \" \")\n",
    "    f1,f2 = f2,s"
   ]
  },
  {
   "cell_type": "markdown",
   "metadata": {},
   "source": [
    "# 8.HCF or GCD"
   ]
  },
  {
   "cell_type": "code",
   "execution_count": 39,
   "metadata": {},
   "outputs": [
    {
     "name": "stdout",
     "output_type": "stream",
     "text": [
      "Enter two numbers separated by space(\" \") : 8 12\n",
      "GCD is : 4\n"
     ]
    }
   ],
   "source": [
    "a,b = map(int,input(\"Enter two numbers separated by space(\\\" \\\") : \").strip().split())\n",
    "def gcd(a,b):\n",
    "    if(b ==0 ):\n",
    "        return a\n",
    "    else:\n",
    "        return gcd(b,a%b)\n",
    "print(\"GCD is :\",gcd(a,b))"
   ]
  },
  {
   "cell_type": "markdown",
   "metadata": {},
   "source": [
    "# 9.Factorial"
   ]
  },
  {
   "cell_type": "code",
   "execution_count": 40,
   "metadata": {},
   "outputs": [
    {
     "name": "stdout",
     "output_type": "stream",
     "text": [
      "Enter a number to find its factorial :5\n",
      "Factorial :  120\n"
     ]
    }
   ],
   "source": [
    "n = int(input(\"Enter a number to find its factorial :\"))\n",
    "def factorial(n):\n",
    "    if(n==1):\n",
    "        return 1\n",
    "    else:\n",
    "        return n*factorial(n-1)\n",
    "print(\"Factorial : \",factorial(n))"
   ]
  },
  {
   "cell_type": "markdown",
   "metadata": {},
   "source": [
    "# 10(i).Decimal To Binary"
   ]
  },
  {
   "cell_type": "code",
   "execution_count": 42,
   "metadata": {},
   "outputs": [
    {
     "name": "stdout",
     "output_type": "stream",
     "text": [
      "Enter a Decimal Number : 10\n",
      "1010\n"
     ]
    }
   ],
   "source": [
    "n = int(input(\"Enter a Decimal Number : \"))\n",
    "print(bin(n).replace(\"0b\",\"\"))"
   ]
  },
  {
   "cell_type": "markdown",
   "metadata": {},
   "source": [
    "# 10(ii).Binary to Decimal"
   ]
  },
  {
   "cell_type": "code",
   "execution_count": 43,
   "metadata": {},
   "outputs": [
    {
     "name": "stdout",
     "output_type": "stream",
     "text": [
      "Enter Binary number : 100\n",
      "4\n"
     ]
    }
   ],
   "source": [
    "n = input(\"Enter Binary number : \")\n",
    "print(int(n,2))"
   ]
  },
  {
   "cell_type": "markdown",
   "metadata": {},
   "source": [
    "# 11.Armstrong Number"
   ]
  },
  {
   "cell_type": "code",
   "execution_count": 47,
   "metadata": {},
   "outputs": [
    {
     "name": "stdout",
     "output_type": "stream",
     "text": [
      "Enter a Number : 153\n",
      "Armstrong Number\n"
     ]
    }
   ],
   "source": [
    "n = str(input(\"Enter a Number : \"))\n",
    "l = len(n)\n",
    "sum =0\n",
    "for i in n:\n",
    "    sum +=int(i)**l\n",
    "if(sum == int(n)):\n",
    "    print(\"Armstrong Number\")\n",
    "else:\n",
    "    print(\"Not Armstrong number\")"
   ]
  },
  {
   "cell_type": "markdown",
   "metadata": {},
   "source": [
    "# 12.Swap 2 Numbers"
   ]
  },
  {
   "cell_type": "code",
   "execution_count": 48,
   "metadata": {},
   "outputs": [
    {
     "name": "stdout",
     "output_type": "stream",
     "text": [
      "Enter a : 19\n",
      "Enter b : 20\n",
      "a= 19 b= 20\n",
      "a= 20 b= 19\n"
     ]
    }
   ],
   "source": [
    "a = int(input(\"Enter a : \"))\n",
    "b = int(input(\"Enter b : \"))\n",
    "print(\"a=\",a,\"b=\",b)\n",
    "a,b = b,a\n",
    "print(\"a=\",a,\"b=\",b)"
   ]
  },
  {
   "cell_type": "markdown",
   "metadata": {},
   "source": [
    "# 13.Concat two Strings"
   ]
  },
  {
   "cell_type": "code",
   "execution_count": 52,
   "metadata": {},
   "outputs": [
    {
     "name": "stdout",
     "output_type": "stream",
     "text": [
      "enter string 1 : Digvijay\n",
      "enter string 2 : Gupta\n",
      "DigvijayGupta\n"
     ]
    }
   ],
   "source": [
    "str1 = str(input(\"enter string 1 : \"))\n",
    "str2 = str(input(\"enter string 2 : \"))\n",
    "sting = str1 + \"\" + str2\n",
    "print(sting)"
   ]
  },
  {
   "cell_type": "code",
   "execution_count": null,
   "metadata": {},
   "outputs": [],
   "source": []
  }
 ],
 "metadata": {
  "kernelspec": {
   "display_name": "Python 3",
   "language": "python",
   "name": "python3"
  },
  "language_info": {
   "codemirror_mode": {
    "name": "ipython",
    "version": 3
   },
   "file_extension": ".py",
   "mimetype": "text/x-python",
   "name": "python",
   "nbconvert_exporter": "python",
   "pygments_lexer": "ipython3",
   "version": "3.7.6"
  }
 },
 "nbformat": 4,
 "nbformat_minor": 4
}
